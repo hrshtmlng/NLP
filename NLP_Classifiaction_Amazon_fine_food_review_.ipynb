{
  "nbformat": 4,
  "nbformat_minor": 0,
  "metadata": {
    "colab": {
      "provenance": [],
      "gpuType": "T4",
      "authorship_tag": "ABX9TyMwS3TUNy9FT/RaLhuh609l",
      "include_colab_link": true
    },
    "kernelspec": {
      "name": "python3",
      "display_name": "Python 3"
    },
    "language_info": {
      "name": "python"
    },
    "accelerator": "GPU"
  },
  "cells": [
    {
      "cell_type": "markdown",
      "metadata": {
        "id": "view-in-github",
        "colab_type": "text"
      },
      "source": [
        "<a href=\"https://colab.research.google.com/github/hrshtmlng/NLP/blob/main/NLP_Classifiaction_Amazon_fine_food_review_.ipynb\" target=\"_parent\"><img src=\"https://colab.research.google.com/assets/colab-badge.svg\" alt=\"Open In Colab\"/></a>"
      ]
    },
    {
      "cell_type": "code",
      "metadata": {
        "colab": {
          "base_uri": "https://localhost:8080/"
        },
        "id": "5d9a75e6",
        "outputId": "31327375-9b80-425f-97dd-464248401da1"
      },
      "source": [
        "import kagglehub\n",
        "\n",
        "# Download latest version\n",
        "path = kagglehub.dataset_download(\"snap/amazon-fine-food-reviews\")\n",
        "\n",
        "print(\"Path to dataset files:\", path)"
      ],
      "execution_count": 1,
      "outputs": [
        {
          "output_type": "stream",
          "name": "stdout",
          "text": [
            "Path to dataset files: /kaggle/input/amazon-fine-food-reviews\n"
          ]
        }
      ]
    },
    {
      "cell_type": "code",
      "source": [
        "# Imports\n",
        "import pandas as pd\n",
        "import re,string\n",
        "import numpy as np\n",
        "import matplotlib.pyplot as plt\n",
        "\n",
        "from sklearn.model_selection import train_test_split\n",
        "from tensorflow.keras.preprocessing.text import Tokenizer\n",
        "from tensorflow.keras.preprocessing.sequence import pad_sequences\n",
        "from tensorflow.keras.models import Sequential\n",
        "from tensorflow.keras.layers import Embedding, GlobalAveragePooling1D, Dense"
      ],
      "metadata": {
        "id": "DVV2_jrvSkEk"
      },
      "execution_count": 5,
      "outputs": []
    },
    {
      "cell_type": "code",
      "source": [
        "# Dataset preparation\n",
        "df = pd.read_csv(f\"{path}/Reviews.csv\")\n",
        "df = df[['Score','Text']]\n",
        "df.dropna(inplace=True)\n",
        "df = df[df['Score'] !=3]\n",
        "df['Sentiment'] = df['Score'].apply(lambda score: 1 if score > 3 else 0)\n",
        "df = df[['Text','Sentiment']]"
      ],
      "metadata": {
        "id": "nIEGe2ZnSkUo"
      },
      "execution_count": 4,
      "outputs": []
    },
    {
      "cell_type": "code",
      "source": [
        "# Text Cleaning\n",
        "\n",
        "def clean_text(text):\n",
        "  text = text.lower()\n",
        "  text = re.sub(f\"[{re.escape(string.punctuation)}]\",\"\",text)\n",
        "  text = re.sub(r\"\\d+\",\"\",text)\n",
        "  text = re.sub(r\"\\s+\",\" \",text)\n",
        "  return text.strip()\n",
        "\n",
        "df['Clean_Text'] = df['Text'].apply(clean_text)"
      ],
      "metadata": {
        "id": "ISP29m0IUM59"
      },
      "execution_count": 6,
      "outputs": []
    },
    {
      "cell_type": "code",
      "source": [
        "# Tokenizer\n",
        "tokenizer = Tokenizer(num_words=1000,oov_token='<OOV>')\n",
        "tokenizer.fit_on_texts(df['Clean_Text'])\n",
        "sequences = tokenizer.texts_to_sequences(df['Clean_Text'])\n",
        "padded = pad_sequences(sequences, maxlen=200)\n",
        "\n",
        "X = padded\n",
        "y = df['Sentiment'].values"
      ],
      "metadata": {
        "id": "LT2jkjcrV6by"
      },
      "execution_count": 7,
      "outputs": []
    },
    {
      "cell_type": "code",
      "source": [
        "# Train Test Split\n",
        "X_train, X_test, y_train, y_test = train_test_split(X, y, test_size=0.2, random_state=42)"
      ],
      "metadata": {
        "id": "SoKuSOqWXh63"
      },
      "execution_count": 8,
      "outputs": []
    },
    {
      "cell_type": "code",
      "source": [
        "# ANN Model\n",
        "model =Sequential([\n",
        "    Embedding(input_dim= 1000,output_dim =16,input_length =200 ),\n",
        "    GlobalAveragePooling1D(),\n",
        "    Dense(16,activation='relu'),\n",
        "    Dense(1,activation='sigmoid')\n",
        "])\n",
        "\n",
        "model.compile(loss='binary_crossentropy',optimizer='adam',metrics = ['accuracy'])\n",
        "histroy = model.fit(X_train, y_train, epochs=5,batch_size=512,validation_data=(X_test,y_test))"
      ],
      "metadata": {
        "colab": {
          "base_uri": "https://localhost:8080/"
        },
        "id": "bpeZwusMXwId",
        "outputId": "5d71e98f-9b2e-45ab-aae1-b5eea7bf8fd8"
      },
      "execution_count": 10,
      "outputs": [
        {
          "output_type": "stream",
          "name": "stderr",
          "text": [
            "/usr/local/lib/python3.11/dist-packages/keras/src/layers/core/embedding.py:97: UserWarning: Argument `input_length` is deprecated. Just remove it.\n",
            "  warnings.warn(\n"
          ]
        },
        {
          "output_type": "stream",
          "name": "stdout",
          "text": [
            "Epoch 1/5\n",
            "\u001b[1m822/822\u001b[0m \u001b[32m━━━━━━━━━━━━━━━━━━━━\u001b[0m\u001b[37m\u001b[0m \u001b[1m9s\u001b[0m 8ms/step - accuracy: 0.8410 - loss: 0.4139 - val_accuracy: 0.8781 - val_loss: 0.2751\n",
            "Epoch 2/5\n",
            "\u001b[1m822/822\u001b[0m \u001b[32m━━━━━━━━━━━━━━━━━━━━\u001b[0m\u001b[37m\u001b[0m \u001b[1m5s\u001b[0m 4ms/step - accuracy: 0.8927 - loss: 0.2561 - val_accuracy: 0.9046 - val_loss: 0.2260\n",
            "Epoch 3/5\n",
            "\u001b[1m822/822\u001b[0m \u001b[32m━━━━━━━━━━━━━━━━━━━━\u001b[0m\u001b[37m\u001b[0m \u001b[1m4s\u001b[0m 5ms/step - accuracy: 0.9083 - loss: 0.2234 - val_accuracy: 0.9126 - val_loss: 0.2141\n",
            "Epoch 4/5\n",
            "\u001b[1m822/822\u001b[0m \u001b[32m━━━━━━━━━━━━━━━━━━━━\u001b[0m\u001b[37m\u001b[0m \u001b[1m5s\u001b[0m 4ms/step - accuracy: 0.9122 - loss: 0.2161 - val_accuracy: 0.9072 - val_loss: 0.2267\n",
            "Epoch 5/5\n",
            "\u001b[1m822/822\u001b[0m \u001b[32m━━━━━━━━━━━━━━━━━━━━\u001b[0m\u001b[37m\u001b[0m \u001b[1m4s\u001b[0m 4ms/step - accuracy: 0.9134 - loss: 0.2127 - val_accuracy: 0.9151 - val_loss: 0.2089\n"
          ]
        }
      ]
    },
    {
      "cell_type": "code",
      "metadata": {
        "colab": {
          "base_uri": "https://localhost:8080/",
          "height": 487
        },
        "id": "8be785e8",
        "outputId": "07851d2d-af7f-459a-bbed-071716e11e47"
      },
      "source": [
        "plt.plot(histroy.history['accuracy'], label='Train Accuracy')\n",
        "plt.plot(histroy.history['val_accuracy'], label='Validation Accuracy')\n",
        "plt.legend()\n",
        "plt.title(\"Model Accuracy\")\n",
        "plt.show()\n",
        "\n",
        "loss, acc = model.evaluate(X_test, y_test)\n",
        "print(f\"Test Accuracy: {acc:.2f}\")"
      ],
      "execution_count": 11,
      "outputs": [
        {
          "output_type": "display_data",
          "data": {
            "text/plain": [
              "<Figure size 640x480 with 1 Axes>"
            ],
            "image/png": "[encoded data removed]"
          },
          "metadata": {}
        },
        {
          "output_type": "stream",
          "name": "stdout",
          "text": [
            "\u001b[1m3287/3287\u001b[0m \u001b[32m━━━━━━━━━━━━━━━━━━━━\u001b[0m\u001b[37m\u001b[0m \u001b[1m7s\u001b[0m 2ms/step - accuracy: 0.9155 - loss: 0.2084\n",
            "Test Accuracy: 0.92\n"
          ]
        }
      ]
    },
    {
      "cell_type": "code",
      "metadata": {
        "colab": {
          "base_uri": "https://localhost:8080/"
        },
        "id": "c1dd08c8",
        "outputId": "1d9040cd-c16c-4a40-b74c-9a227d34d758"
      },
      "source": [
        "def predict_sentiment(text):\n",
        "    text = clean_text(text)\n",
        "    seq = tokenizer.texts_to_sequences([text])\n",
        "    padded_seq = pad_sequences(seq, maxlen=200)\n",
        "    pred = model.predict(padded_seq)[0][0]\n",
        "    return \"Positive\" if pred > 0.5 else \"Negative\"\n",
        "\n",
        "# Test\n",
        "print(predict_sentiment(\"The food was absolutely delicious!\"))\n",
        "print(predict_sentiment(\"Worst purchase ever, I regret buying it.\"))"
      ],
      "execution_count": 12,
      "outputs": [
        {
          "output_type": "stream",
          "name": "stdout",
          "text": [
            "\u001b[1m1/1\u001b[0m \u001b[32m━━━━━━━━━━━━━━━━━━━━\u001b[0m\u001b[37m\u001b[0m \u001b[1m0s\u001b[0m 261ms/step\n",
            "Positive\n",
            "\u001b[1m1/1\u001b[0m \u001b[32m━━━━━━━━━━━━━━━━━━━━\u001b[0m\u001b[37m\u001b[0m \u001b[1m0s\u001b[0m 27ms/step\n",
            "Positive\n"
          ]
        }
      ]
    }
  ]
}